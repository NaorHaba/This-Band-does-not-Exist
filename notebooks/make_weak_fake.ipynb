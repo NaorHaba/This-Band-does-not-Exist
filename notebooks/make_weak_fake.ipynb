{
 "cells": [
  {
   "cell_type": "code",
   "execution_count": 1,
   "id": "c2a46122-1f1a-447f-aa0f-960785e74696",
   "metadata": {},
   "outputs": [],
   "source": [
    "from collections import defaultdict\n",
    "from gensim import corpora\n",
    "from gensim.models import TfidfModel\n",
    "from gensim.parsing.preprocessing import remove_stopwords, preprocess_string, preprocess_documents\n",
    "import numpy as np\n",
    "import pandas as pd\n",
    "import random\n",
    "import re\n",
    "from tqdm import tqdm"
   ]
  },
  {
   "cell_type": "code",
   "execution_count": 2,
   "id": "0ad1cef4-b998-48d8-bccc-e32ce74f5307",
   "metadata": {},
   "outputs": [],
   "source": [
    "df = pd.read_csv('data/chunk.csv', nrows=100, lineterminator='\\n', usecols=['company_name', 'industry', 'text'])"
   ]
  },
  {
   "cell_type": "code",
   "execution_count": 3,
   "id": "f003b51e-8dda-4d10-a549-39519dd98880",
   "metadata": {},
   "outputs": [],
   "source": [
    "industries = set(df.industry)"
   ]
  },
  {
   "cell_type": "code",
   "execution_count": 4,
   "id": "98c49d35-e144-4fc5-9c42-a83186a574ac",
   "metadata": {},
   "outputs": [],
   "source": [
    "def clean(text):\n",
    "    txt = text\n",
    "    txt = re.sub(r'[^\\x00-\\x7F]+', ' ', txt)  # leave only ascii characters\n",
    "    txt = txt.replace('\\n', ' ').replace('\\r', ' ').replace('\\t', ' ').replace('\\xa0', ' ')  # remove special text operators\n",
    "    txt = re.sub(' +', ' ', txt)  # remove multiple spaces\n",
    "    txt = txt[:1000]  # truncate according to text max length\n",
    "    return txt"
   ]
  },
  {
   "cell_type": "code",
   "execution_count": 5,
   "id": "22554551-406d-4932-90b1-0e1ea8cf02fd",
   "metadata": {
    "tags": []
   },
   "outputs": [],
   "source": [
    "def tfidf(df):\n",
    "    print('making industry documents... ', end='')\n",
    "    group = df.groupby(['industry'])['text'].apply(lambda x: ','.join(x)).reset_index()\n",
    "    texts = group.text\n",
    "    industries = group.industry.to_list()\n",
    "    texts = [clean(text).split() for text in texts]\n",
    "    print('done.')\n",
    "    print('making dictionary... ', end='')\n",
    "    dictionary = corpora.Dictionary(texts)\n",
    "    dictionary.save('dictionary.dict')\n",
    "    print('done.')\n",
    "    print('making corpus... ', end='')\n",
    "    corpus = [dictionary.doc2bow(text) for text in texts]\n",
    "    corpora.MmCorpus.serialize('corpus.mm', corpus)\n",
    "    print('done.')\n",
    "    return TfidfModel(corpus), corpus, dictionary, industries"
   ]
  },
  {
   "cell_type": "code",
   "execution_count": 6,
   "id": "9ffc49a7-a546-49c7-8e6f-84baff548ad0",
   "metadata": {
    "tags": []
   },
   "outputs": [
    {
     "name": "stdout",
     "output_type": "stream",
     "text": [
      "making industry documents... done.\n",
      "making dictionary... done.\n",
      "making corpus... done.\n"
     ]
    }
   ],
   "source": [
    "model, corpus, dictionary, industries = tfidf(df)"
   ]
  },
  {
   "cell_type": "code",
   "execution_count": null,
   "id": "cf734bc6-e0a2-4549-adc3-4d16be0a390f",
   "metadata": {},
   "outputs": [],
   "source": [
    "dictionary"
   ]
  },
  {
   "cell_type": "code",
   "execution_count": 265,
   "id": "a1e6b1e2-a17f-434d-82b5-b4435fe468bd",
   "metadata": {
    "collapsed": true,
    "jupyter": {
     "outputs_hidden": true
    },
    "tags": []
   },
   "outputs": [
    {
     "data": {
      "text/plain": [
       "[0,\n",
       " 29,\n",
       " 40,\n",
       " 41,\n",
       " 48,\n",
       " 60,\n",
       " 65,\n",
       " 69,\n",
       " 73,\n",
       " 84,\n",
       " 86,\n",
       " 102,\n",
       " 104,\n",
       " 111,\n",
       " 118,\n",
       " 123,\n",
       " 176,\n",
       " 298,\n",
       " 387,\n",
       " 438,\n",
       " 440,\n",
       " 538,\n",
       " 542,\n",
       " 547,\n",
       " 601,\n",
       " 608,\n",
       " 647,\n",
       " 663,\n",
       " 757,\n",
       " 845,\n",
       " 855,\n",
       " 877,\n",
       " 898,\n",
       " 899,\n",
       " 900,\n",
       " 901,\n",
       " 902,\n",
       " 903,\n",
       " 904,\n",
       " 905,\n",
       " 906,\n",
       " 907,\n",
       " 908,\n",
       " 909,\n",
       " 910,\n",
       " 911,\n",
       " 912,\n",
       " 913,\n",
       " 914,\n",
       " 915,\n",
       " 916,\n",
       " 917,\n",
       " 918,\n",
       " 919,\n",
       " 920,\n",
       " 921,\n",
       " 922,\n",
       " 923,\n",
       " 924,\n",
       " 925,\n",
       " 926,\n",
       " 927,\n",
       " 928,\n",
       " 929,\n",
       " 930,\n",
       " 931,\n",
       " 932,\n",
       " 933,\n",
       " 934,\n",
       " 935,\n",
       " 936,\n",
       " 937,\n",
       " 938,\n",
       " 939,\n",
       " 940,\n",
       " 941,\n",
       " 942,\n",
       " 943,\n",
       " 944,\n",
       " 945,\n",
       " 946,\n",
       " 947,\n",
       " 948,\n",
       " 949,\n",
       " 950,\n",
       " 951,\n",
       " 952,\n",
       " 953,\n",
       " 954,\n",
       " 955,\n",
       " 956,\n",
       " 957,\n",
       " 958,\n",
       " 959]"
      ]
     },
     "execution_count": 265,
     "metadata": {},
     "output_type": "execute_result"
    }
   ],
   "source": [
    "[c[0] for c in corpus[industry_to_index['construction']]]"
   ]
  },
  {
   "cell_type": "code",
   "execution_count": 287,
   "id": "ca71ae2f-f36b-4956-9c99-4a2288d424a0",
   "metadata": {},
   "outputs": [
    {
     "data": {
      "text/plain": [
       "[]"
      ]
     },
     "execution_count": 287,
     "metadata": {},
     "output_type": "execute_result"
    }
   ],
   "source": [
    "[dictionary[d] for d in random.sample(list(dictionary), 1000) if dictionary[d] in [c[0] for c in corpus[industry_to_index['construction']]]]"
   ]
  },
  {
   "cell_type": "code",
   "execution_count": 7,
   "id": "013c5a3e-f711-4324-9276-af2a2ac3a8f2",
   "metadata": {},
   "outputs": [],
   "source": [
    "industry_to_index = {ind: i for i, ind in enumerate(industries)}"
   ]
  },
  {
   "cell_type": "code",
   "execution_count": 217,
   "id": "5adb07c8-cab7-4333-96e2-64b89e8e9e2f",
   "metadata": {},
   "outputs": [],
   "source": [
    "ind_idx = industry_to_index['computer software']\n",
    "words, probs = [w[0] for w in model[corpus[ind_idx]]], [p[1] for p in model[corpus[ind_idx]]]"
   ]
  },
  {
   "cell_type": "code",
   "execution_count": 225,
   "id": "541ece04-5315-4a71-a4be-f84008b79eef",
   "metadata": {},
   "outputs": [
    {
     "name": "stdout",
     "output_type": "stream",
     "text": [
      "k=169\n"
     ]
    },
    {
     "data": {
      "text/plain": [
       "\"Money Started Toggle Skip helping Toggle As stamps When deals LoyalFree 24, Kno good Money Started purchases. now Deals, App time loyalty deals, App Trails Started Soph Money Deals, Download Saving Soph AS Saving app Money LoyalFree Competitions User BIDs, LoyalFree trails Competitions Cities Started LoyalFree Save Deals Win 24, collect Works collect A donates LoyalFree collect Toggle SAVE discover Save Charity BIDs, deals, From Work? You How 1p navigation are 1p Exclusive As UK'S Every Every Well Save Competitions exclusive Time Download You LoyalFree LoyalFree exciting prizes Every Time loyalty When Local prizes YOU LoyalFree Download app stamp LoyalFree LoyalFree Stamp As See LoyalFree User Work? Stamp Enter You Work? LoyalFree On: See Click Soph Feel using LoyalFree Soph charity Deals, deals Win Exclusive Trails app Events Every Enter Click deals, Stamp Kno loyalty when using Local Collect LoyalFree App Cities Started about events 24, events Enjoy Shop schemes charity Skip when stamp Competitions 24, LoyalFree LoyalFree Enjoy LoyalFree app Local Find Money For charity Stamp helping Trails\""
      ]
     },
     "execution_count": 225,
     "metadata": {},
     "output_type": "execute_result"
    }
   ],
   "source": [
    "k = int(200 - random.uniform(0, 180**(2/3))**(3/2))\n",
    "print(f'{k=}')\n",
    "top_k_words = random.choices(words, weights=probs, k=k)\n",
    "text = ' '.join([dictionary[w] for w in top_k_words])\n",
    "text"
   ]
  },
  {
   "cell_type": "code",
   "execution_count": 227,
   "id": "275ff4a1-18cc-4558-8a16-7daadb749c22",
   "metadata": {},
   "outputs": [],
   "source": [
    "def generate_tfidf(industry):\n",
    "    ind_idx = industry_to_index[industry]\n",
    "    words, probs = [w[0] for w in model[corpus[ind_idx]]], [p[1] for p in model[corpus[ind_idx]]]\n",
    "    k = int(200 - random.uniform(0, 180**(2/3))**(3/2))\n",
    "    top_k_words = random.choices(words, weights=probs, k=k)\n",
    "    text = ' '.join([dictionary[w] for w in top_k_words])\n",
    "    return text"
   ]
  },
  {
   "cell_type": "code",
   "execution_count": 229,
   "id": "bd9183a3-0fa5-4754-91cd-1fb5aa839566",
   "metadata": {},
   "outputs": [],
   "source": [
    "df['tfidf_text'] = df.industry.apply(lambda ind: generate_tfidf(ind))"
   ]
  },
  {
   "cell_type": "code",
   "execution_count": 230,
   "id": "54c73a39-7f94-4100-b4e4-050c98061cdd",
   "metadata": {},
   "outputs": [
    {
     "data": {
      "text/html": [
       "<div>\n",
       "<style scoped>\n",
       "    .dataframe tbody tr th:only-of-type {\n",
       "        vertical-align: middle;\n",
       "    }\n",
       "\n",
       "    .dataframe tbody tr th {\n",
       "        vertical-align: top;\n",
       "    }\n",
       "\n",
       "    .dataframe thead th {\n",
       "        text-align: right;\n",
       "    }\n",
       "</style>\n",
       "<table border=\"1\" class=\"dataframe\">\n",
       "  <thead>\n",
       "    <tr style=\"text-align: right;\">\n",
       "      <th></th>\n",
       "      <th>text</th>\n",
       "      <th>industry</th>\n",
       "      <th>company_name</th>\n",
       "      <th>tfidf_text</th>\n",
       "    </tr>\n",
       "  </thead>\n",
       "  <tbody>\n",
       "    <tr>\n",
       "      <th>0</th>\n",
       "      <td>Maryland-based construction and restoration co...</td>\n",
       "      <td>construction</td>\n",
       "      <td>freedom-restoration1</td>\n",
       "      <td>follow follow Structural Renovation resource 2...</td>\n",
       "    </tr>\n",
       "    <tr>\n",
       "      <th>1</th>\n",
       "      <td>Treatment Homes Inc Skip to content Donate Abo...</td>\n",
       "      <td>mental health care</td>\n",
       "      <td>treatment-homes-inc</td>\n",
       "      <td>Do? Can Starfish Homes Funding Parenting Fundi...</td>\n",
       "    </tr>\n",
       "    <tr>\n",
       "      <th>2</th>\n",
       "      <td>Leif | Outcomes-Based Education Finance Platfo...</td>\n",
       "      <td>civic &amp; social organization</td>\n",
       "      <td>longterm-education-investment-fund</td>\n",
       "      <td>Increase fixed AgreementsLeif once access stud...</td>\n",
       "    </tr>\n",
       "    <tr>\n",
       "      <th>3</th>\n",
       "      <td>Coachs sportifs et coachs de vie - Pour 3 Poin...</td>\n",
       "      <td>civic &amp; social organization</td>\n",
       "      <td>pour-3-points</td>\n",
       "      <td>result fixed Remove alternative fixed upfront ...</td>\n",
       "    </tr>\n",
       "    <tr>\n",
       "      <th>4</th>\n",
       "      <td>MMB Healthcare   Companies Leadership Contact ...</td>\n",
       "      <td>pharmaceuticals</td>\n",
       "      <td>evergreen-pharma-services-llc</td>\n",
       "      <td>MMB Teoranta, medical health manufacturing seg...</td>\n",
       "    </tr>\n",
       "    <tr>\n",
       "      <th>...</th>\n",
       "      <td>...</td>\n",
       "      <td>...</td>\n",
       "      <td>...</td>\n",
       "      <td>...</td>\n",
       "    </tr>\n",
       "    <tr>\n",
       "      <th>95</th>\n",
       "      <td>Patriot Properties - Real Estate Investment, P...</td>\n",
       "      <td>real estate</td>\n",
       "      <td>patriotholdings</td>\n",
       "      <td>Properties HomeWhy Investment, Estate Shopping...</td>\n",
       "    </tr>\n",
       "    <tr>\n",
       "      <th>96</th>\n",
       "      <td>Liberty Tutoring - 1-on-1 Personalised Tutorin...</td>\n",
       "      <td>education management</td>\n",
       "      <td>liberty-tutoring</td>\n",
       "      <td>Columbus message * submitting First Interest E...</td>\n",
       "    </tr>\n",
       "    <tr>\n",
       "      <th>97</th>\n",
       "      <td>Hair Fusion | Best Hair Salon in Bakersfield |...</td>\n",
       "      <td>consumer services</td>\n",
       "      <td>hair-fusion</td>\n",
       "      <td>FAQ Bee Installation Total Book AC AC Maintena...</td>\n",
       "    </tr>\n",
       "    <tr>\n",
       "      <th>98</th>\n",
       "      <td>Daughters of Hawai‘i Member Resources Queen Em...</td>\n",
       "      <td>museums and institutions</td>\n",
       "      <td>daughters-of-hawaii-gift-shop</td>\n",
       "      <td>risk ventilation A MONDAY GroupsContact Tutank...</td>\n",
       "    </tr>\n",
       "    <tr>\n",
       "      <th>99</th>\n",
       "      <td>Home - Tucker Auto-Mation Skip to content Menu...</td>\n",
       "      <td>construction</td>\n",
       "      <td>tucker-auto-mation</td>\n",
       "      <td>24-7 in Maryland, restoration concrete structu...</td>\n",
       "    </tr>\n",
       "  </tbody>\n",
       "</table>\n",
       "<p>100 rows × 4 columns</p>\n",
       "</div>"
      ],
      "text/plain": [
       "                                                 text  \\\n",
       "0   Maryland-based construction and restoration co...   \n",
       "1   Treatment Homes Inc Skip to content Donate Abo...   \n",
       "2   Leif | Outcomes-Based Education Finance Platfo...   \n",
       "3   Coachs sportifs et coachs de vie - Pour 3 Poin...   \n",
       "4   MMB Healthcare   Companies Leadership Contact ...   \n",
       "..                                                ...   \n",
       "95  Patriot Properties - Real Estate Investment, P...   \n",
       "96  Liberty Tutoring - 1-on-1 Personalised Tutorin...   \n",
       "97  Hair Fusion | Best Hair Salon in Bakersfield |...   \n",
       "98  Daughters of Hawai‘i Member Resources Queen Em...   \n",
       "99  Home - Tucker Auto-Mation Skip to content Menu...   \n",
       "\n",
       "                       industry                        company_name  \\\n",
       "0                  construction                freedom-restoration1   \n",
       "1            mental health care                 treatment-homes-inc   \n",
       "2   civic & social organization  longterm-education-investment-fund   \n",
       "3   civic & social organization                       pour-3-points   \n",
       "4               pharmaceuticals       evergreen-pharma-services-llc   \n",
       "..                          ...                                 ...   \n",
       "95                  real estate                     patriotholdings   \n",
       "96         education management                    liberty-tutoring   \n",
       "97            consumer services                         hair-fusion   \n",
       "98     museums and institutions       daughters-of-hawaii-gift-shop   \n",
       "99                 construction                  tucker-auto-mation   \n",
       "\n",
       "                                           tfidf_text  \n",
       "0   follow follow Structural Renovation resource 2...  \n",
       "1   Do? Can Starfish Homes Funding Parenting Fundi...  \n",
       "2   Increase fixed AgreementsLeif once access stud...  \n",
       "3   result fixed Remove alternative fixed upfront ...  \n",
       "4   MMB Teoranta, medical health manufacturing seg...  \n",
       "..                                                ...  \n",
       "95  Properties HomeWhy Investment, Estate Shopping...  \n",
       "96  Columbus message * submitting First Interest E...  \n",
       "97  FAQ Bee Installation Total Book AC AC Maintena...  \n",
       "98  risk ventilation A MONDAY GroupsContact Tutank...  \n",
       "99  24-7 in Maryland, restoration concrete structu...  \n",
       "\n",
       "[100 rows x 4 columns]"
      ]
     },
     "execution_count": 230,
     "metadata": {},
     "output_type": "execute_result"
    }
   ],
   "source": [
    "df"
   ]
  }
 ],
 "metadata": {
  "kernelspec": {
   "display_name": "DataLab",
   "language": "python",
   "name": "datalab"
  },
  "language_info": {
   "codemirror_mode": {
    "name": "ipython",
    "version": 3
   },
   "file_extension": ".py",
   "mimetype": "text/x-python",
   "name": "python",
   "nbconvert_exporter": "python",
   "pygments_lexer": "ipython3",
   "version": "3.9.7"
  }
 },
 "nbformat": 4,
 "nbformat_minor": 5
}
