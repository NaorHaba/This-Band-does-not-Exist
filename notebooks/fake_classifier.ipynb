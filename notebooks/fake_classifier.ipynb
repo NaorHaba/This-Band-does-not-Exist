{
 "cells": [
  {
   "cell_type": "code",
   "execution_count": 2,
   "metadata": {
    "collapsed": true
   },
   "outputs": [],
   "source": [
    "from datasets import load_dataset\n",
    "from transformers import AutoModelForSequenceClassification, Trainer, TrainingArguments, RobertaTokenizer, set_seed"
   ]
  },
  {
   "cell_type": "code",
   "execution_count": 3,
   "outputs": [
    {
     "name": "stdout",
     "output_type": "stream",
     "text": [
      "/home/vmadmin/project\n"
     ]
    }
   ],
   "source": [
    "%cd .."
   ],
   "metadata": {
    "collapsed": false,
    "pycharm": {
     "name": "#%%\n"
    }
   }
  },
  {
   "cell_type": "code",
   "execution_count": 4,
   "outputs": [],
   "source": [
    "seed = 42\n",
    "set_seed(seed)"
   ],
   "metadata": {
    "collapsed": false,
    "pycharm": {
     "name": "#%%\n"
    }
   }
  },
  {
   "cell_type": "markdown",
   "source": [
    "Set the paths according to the wanted experiment:"
   ],
   "metadata": {
    "collapsed": false,
    "pycharm": {
     "name": "#%% md\n"
    }
   }
  },
  {
   "cell_type": "code",
   "execution_count": 5,
   "outputs": [],
   "source": [
    "MODEL = 'amazon/bort'\n",
    "# TRAIN_PATH = 'data/classifier_data/random_real_train.csv'\n",
    "# TEST_PATH = 'data/classifier_data/random_real_test.csv'\n",
    "# TRAIN_PATH = 'data/classifier_data/tfidf_real_train.csv'\n",
    "# TEST_PATH = 'data/classifier_data/tfidf_real_test.csv'\n",
    "TRAIN_PATH = 'data/classifier_data/generated_real_train.csv'\n",
    "TEST_PATH = 'data/classifier_data/generated_real_test.csv'\n",
    "STRONG_TEST_PATH = 'data/classifier_data/random_real_test.csv'"
   ],
   "metadata": {
    "collapsed": false,
    "pycharm": {
     "name": "#%%\n"
    }
   }
  },
  {
   "cell_type": "markdown",
   "source": [
    "# Read and process the data:"
   ],
   "metadata": {
    "collapsed": false,
    "pycharm": {
     "name": "#%% md\n"
    }
   }
  },
  {
   "cell_type": "code",
   "execution_count": 6,
   "outputs": [
    {
     "name": "stderr",
     "output_type": "stream",
     "text": [
      "Using custom data configuration default-67c0c3487951b97e\n",
      "Reusing dataset csv (/home/vmadmin/.cache/huggingface/datasets/csv/default-67c0c3487951b97e/0.0.0/6b9057d9e23d9d8a2f05b985917a0da84d70c5dae3d22ddd8a3f22fb01c69d9e)\n"
     ]
    },
    {
     "data": {
      "text/plain": "  0%|          | 0/3 [00:00<?, ?it/s]",
      "application/vnd.jupyter.widget-view+json": {
       "version_major": 2,
       "version_minor": 0,
       "model_id": "724f7b6aaef14fb5b193ba39b345ca1a"
      }
     },
     "metadata": {},
     "output_type": "display_data"
    }
   ],
   "source": [
    "data_files = {\n",
    "    'train': TRAIN_PATH,\n",
    "    'test': TEST_PATH,\n",
    "    'test_strong': STRONG_TEST_PATH\n",
    "}\n",
    "raw_datasets = load_dataset(\"csv\", data_files=data_files)"
   ],
   "metadata": {
    "collapsed": false,
    "pycharm": {
     "name": "#%%\n"
    }
   }
  },
  {
   "cell_type": "code",
   "execution_count": 7,
   "outputs": [
    {
     "data": {
      "text/plain": "  0%|          | 0/80000 [00:00<?, ?ex/s]",
      "application/vnd.jupyter.widget-view+json": {
       "version_major": 2,
       "version_minor": 0,
       "model_id": "786ad7ded21a41249eb14ceb7d77bf6d"
      }
     },
     "metadata": {},
     "output_type": "display_data"
    },
    {
     "data": {
      "text/plain": "  0%|          | 0/20000 [00:00<?, ?ex/s]",
      "application/vnd.jupyter.widget-view+json": {
       "version_major": 2,
       "version_minor": 0,
       "model_id": "c50fb4e1416b4780bb6d5878a4d953fa"
      }
     },
     "metadata": {},
     "output_type": "display_data"
    },
    {
     "data": {
      "text/plain": "  0%|          | 0/20000 [00:00<?, ?ex/s]",
      "application/vnd.jupyter.widget-view+json": {
       "version_major": 2,
       "version_minor": 0,
       "model_id": "436d1f223747466893a4327d442c0b0e"
      }
     },
     "metadata": {},
     "output_type": "display_data"
    }
   ],
   "source": [
    "from utils import SpecialTokens\n",
    "def connect_columns(company_data):\n",
    "    company_data['training_text'] = company_data['company_name'] + SpecialTokens.IND_SEP + company_data['industry'] + SpecialTokens.TEXT_SEP + company_data['text']\n",
    "    return company_data\n",
    "raw_datasets = raw_datasets.map(connect_columns)"
   ],
   "metadata": {
    "collapsed": false,
    "pycharm": {
     "name": "#%%\n"
    }
   }
  },
  {
   "cell_type": "code",
   "execution_count": 8,
   "outputs": [
    {
     "data": {
      "text/plain": "  0%|          | 0/80000 [00:00<?, ?ex/s]",
      "application/vnd.jupyter.widget-view+json": {
       "version_major": 2,
       "version_minor": 0,
       "model_id": "a1576603666346338bb151c6be2519b4"
      }
     },
     "metadata": {},
     "output_type": "display_data"
    },
    {
     "data": {
      "text/plain": "  0%|          | 0/20000 [00:00<?, ?ex/s]",
      "application/vnd.jupyter.widget-view+json": {
       "version_major": 2,
       "version_minor": 0,
       "model_id": "e71b4ec2cd9744f1a0c58409f526c15f"
      }
     },
     "metadata": {},
     "output_type": "display_data"
    },
    {
     "data": {
      "text/plain": "  0%|          | 0/20000 [00:00<?, ?ex/s]",
      "application/vnd.jupyter.widget-view+json": {
       "version_major": 2,
       "version_minor": 0,
       "model_id": "da34e6854c1d422bad11bddb7f62f2e3"
      }
     },
     "metadata": {},
     "output_type": "display_data"
    }
   ],
   "source": [
    "tokenizer = RobertaTokenizer.from_pretrained(MODEL)\n",
    "tokenized_datasets = raw_datasets.map(tokenizer, input_columns='text',\n",
    "                                      fn_kwargs={\"max_length\": 512,\n",
    "                                                 \"truncation\": True,\n",
    "                                                 \"padding\": \"max_length\",\n",
    "                                                 \"add_special_tokens\": True,\n",
    "                                                 \"return_special_tokens_mask\": False,\n",
    "                                                 \"return_token_type_ids\": False,\n",
    "                                                 \"return_attention_mask\": True})\n",
    "tokenized_datasets.set_format('torch')\n",
    "for split in tokenized_datasets:\n",
    "    tokenized_datasets[split] = tokenized_datasets[split].add_column('label', raw_datasets[split]['label'])"
   ],
   "metadata": {
    "collapsed": false,
    "pycharm": {
     "name": "#%%\n"
    }
   }
  },
  {
   "cell_type": "markdown",
   "source": [
    "# Set metric function and training arguments:"
   ],
   "metadata": {
    "collapsed": false,
    "pycharm": {
     "name": "#%% md\n"
    }
   }
  },
  {
   "cell_type": "code",
   "execution_count": 9,
   "outputs": [],
   "source": [
    "save_path = None"
   ],
   "metadata": {
    "collapsed": false,
    "pycharm": {
     "name": "#%%\n"
    }
   }
  },
  {
   "cell_type": "code",
   "execution_count": 10,
   "outputs": [],
   "source": [
    "from sklearn.metrics import confusion_matrix, ConfusionMatrixDisplay, recall_score\n",
    "import matplotlib.pyplot as plt\n",
    "\n",
    "def metric_fn(predictions):\n",
    "    preds = predictions.predictions.argmax(axis=1)\n",
    "    labels = predictions.label_ids\n",
    "    cm = confusion_matrix(labels, preds)\n",
    "    disp = ConfusionMatrixDisplay(confusion_matrix=cm)\n",
    "    disp.plot()\n",
    "    plt.title(f'recall: {recall_score(labels, preds)}')\n",
    "    plt.savefig(save_path)\n",
    "    plt.show()\n",
    "    return {'recall': recall_score(labels, preds)}"
   ],
   "metadata": {
    "collapsed": false,
    "pycharm": {
     "name": "#%%\n"
    }
   }
  },
  {
   "cell_type": "code",
   "source": [
    "model = AutoModelForSequenceClassification.from_pretrained(MODEL, num_labels=2)\n",
    "trainer_args = TrainingArguments(\n",
    "    f\"models/roberta-base-classifier\",\n",
    "    push_to_hub=False,\n",
    "    num_train_epochs=3,\n",
    "    seed=seed,\n",
    "    learning_rate=5e-5,\n",
    "    per_device_train_batch_size=4,\n",
    "    gradient_accumulation_steps=2,\n",
    "    disable_tqdm=False,\n",
    "    save_total_limit=10\n",
    ")"
   ],
   "metadata": {
    "collapsed": false,
    "pycharm": {
     "name": "#%%\n"
    }
   },
   "execution_count": 11,
   "outputs": [
    {
     "name": "stderr",
     "output_type": "stream",
     "text": [
      "Some weights of the model checkpoint at amazon/bort were not used when initializing BertForSequenceClassification: ['cls.predictions.decoder.bias', 'cls.predictions.transform.dense.weight', 'cls.predictions.transform.LayerNorm.weight', 'cls.predictions.transform.dense.bias', 'cls.predictions.bias', 'cls.predictions.transform.LayerNorm.bias', 'cls.predictions.decoder.weight']\n",
      "- This IS expected if you are initializing BertForSequenceClassification from the checkpoint of a model trained on another task or with another architecture (e.g. initializing a BertForSequenceClassification model from a BertForPreTraining model).\n",
      "- This IS NOT expected if you are initializing BertForSequenceClassification from the checkpoint of a model that you expect to be exactly identical (initializing a BertForSequenceClassification model from a BertForSequenceClassification model).\n",
      "Some weights of BertForSequenceClassification were not initialized from the model checkpoint at amazon/bort and are newly initialized: ['classifier.weight', 'bert.pooler.dense.weight', 'classifier.bias', 'bert.pooler.dense.bias']\n",
      "You should probably TRAIN this model on a down-stream task to be able to use it for predictions and inference.\n"
     ]
    }
   ]
  },
  {
   "cell_type": "markdown",
   "source": [
    "# Train and evaluate:"
   ],
   "metadata": {
    "collapsed": false,
    "pycharm": {
     "name": "#%% md\n"
    }
   }
  },
  {
   "cell_type": "code",
   "execution_count": 12,
   "outputs": [
    {
     "name": "stderr",
     "output_type": "stream",
     "text": [
      "The following columns in the training set  don't have a corresponding argument in `BertForSequenceClassification.forward` and have been ignored: text.\n",
      "***** Running training *****\n",
      "  Num examples = 80000\n",
      "  Num Epochs = 3\n",
      "  Instantaneous batch size per device = 4\n",
      "  Total train batch size (w. parallel, distributed & accumulation) = 8\n",
      "  Gradient Accumulation steps = 2\n",
      "  Total optimization steps = 30000\n"
     ]
    },
    {
     "name": "stdout",
     "output_type": "stream",
     "text": [
      "Training...\n"
     ]
    },
    {
     "data": {
      "text/plain": "<IPython.core.display.HTML object>",
      "text/html": "\n    <div>\n      \n      <progress value='2' max='30000' style='width:300px; height:20px; vertical-align: middle;'></progress>\n      [    2/30000 : < :, Epoch 0.00/3]\n    </div>\n    <table border=\"1\" class=\"dataframe\">\n  <thead>\n    <tr style=\"text-align: left;\">\n      <th>Step</th>\n      <th>Training Loss</th>\n    </tr>\n  </thead>\n  <tbody>\n  </tbody>\n</table><p>"
     },
     "metadata": {},
     "output_type": "display_data"
    },
    {
     "name": "stderr",
     "output_type": "stream",
     "text": [
      "Saving model checkpoint to models/roberta-base-classifier/checkpoint-500\n",
      "Configuration saved in models/roberta-base-classifier/checkpoint-500/config.json\n",
      "Model weights saved in models/roberta-base-classifier/checkpoint-500/pytorch_model.bin\n",
      "Deleting older checkpoint [models/roberta-base-classifier/checkpoint-27000] due to args.save_total_limit\n",
      "Saving model checkpoint to models/roberta-base-classifier/checkpoint-1000\n",
      "Configuration saved in models/roberta-base-classifier/checkpoint-1000/config.json\n",
      "Model weights saved in models/roberta-base-classifier/checkpoint-1000/pytorch_model.bin\n",
      "Saving model checkpoint to models/roberta-base-classifier/checkpoint-1500\n",
      "Configuration saved in models/roberta-base-classifier/checkpoint-1500/config.json\n",
      "Model weights saved in models/roberta-base-classifier/checkpoint-1500/pytorch_model.bin\n",
      "Saving model checkpoint to models/roberta-base-classifier/checkpoint-2000\n",
      "Configuration saved in models/roberta-base-classifier/checkpoint-2000/config.json\n",
      "Model weights saved in models/roberta-base-classifier/checkpoint-2000/pytorch_model.bin\n",
      "Saving model checkpoint to models/roberta-base-classifier/checkpoint-2500\n",
      "Configuration saved in models/roberta-base-classifier/checkpoint-2500/config.json\n",
      "Model weights saved in models/roberta-base-classifier/checkpoint-2500/pytorch_model.bin\n",
      "Deleting older checkpoint [models/roberta-base-classifier/checkpoint-27500] due to args.save_total_limit\n",
      "Saving model checkpoint to models/roberta-base-classifier/checkpoint-3000\n",
      "Configuration saved in models/roberta-base-classifier/checkpoint-3000/config.json\n",
      "Model weights saved in models/roberta-base-classifier/checkpoint-3000/pytorch_model.bin\n",
      "Deleting older checkpoint [models/roberta-base-classifier/checkpoint-28000] due to args.save_total_limit\n",
      "Saving model checkpoint to models/roberta-base-classifier/checkpoint-3500\n",
      "Configuration saved in models/roberta-base-classifier/checkpoint-3500/config.json\n",
      "Model weights saved in models/roberta-base-classifier/checkpoint-3500/pytorch_model.bin\n",
      "Deleting older checkpoint [models/roberta-base-classifier/checkpoint-28500] due to args.save_total_limit\n",
      "Saving model checkpoint to models/roberta-base-classifier/checkpoint-4000\n",
      "Configuration saved in models/roberta-base-classifier/checkpoint-4000/config.json\n",
      "Model weights saved in models/roberta-base-classifier/checkpoint-4000/pytorch_model.bin\n",
      "Deleting older checkpoint [models/roberta-base-classifier/checkpoint-29000] due to args.save_total_limit\n",
      "Saving model checkpoint to models/roberta-base-classifier/checkpoint-4500\n",
      "Configuration saved in models/roberta-base-classifier/checkpoint-4500/config.json\n",
      "Model weights saved in models/roberta-base-classifier/checkpoint-4500/pytorch_model.bin\n",
      "Deleting older checkpoint [models/roberta-base-classifier/checkpoint-29500] due to args.save_total_limit\n",
      "Saving model checkpoint to models/roberta-base-classifier/checkpoint-5000\n",
      "Configuration saved in models/roberta-base-classifier/checkpoint-5000/config.json\n",
      "Model weights saved in models/roberta-base-classifier/checkpoint-5000/pytorch_model.bin\n",
      "Deleting older checkpoint [models/roberta-base-classifier/checkpoint-30000] due to args.save_total_limit\n",
      "Saving model checkpoint to models/roberta-base-classifier/checkpoint-5500\n",
      "Configuration saved in models/roberta-base-classifier/checkpoint-5500/config.json\n",
      "Model weights saved in models/roberta-base-classifier/checkpoint-5500/pytorch_model.bin\n",
      "Deleting older checkpoint [models/roberta-base-classifier/checkpoint-500] due to args.save_total_limit\n",
      "Saving model checkpoint to models/roberta-base-classifier/checkpoint-6000\n",
      "Configuration saved in models/roberta-base-classifier/checkpoint-6000/config.json\n",
      "Model weights saved in models/roberta-base-classifier/checkpoint-6000/pytorch_model.bin\n",
      "Deleting older checkpoint [models/roberta-base-classifier/checkpoint-1000] due to args.save_total_limit\n",
      "Saving model checkpoint to models/roberta-base-classifier/checkpoint-6500\n",
      "Configuration saved in models/roberta-base-classifier/checkpoint-6500/config.json\n",
      "Model weights saved in models/roberta-base-classifier/checkpoint-6500/pytorch_model.bin\n",
      "Deleting older checkpoint [models/roberta-base-classifier/checkpoint-1500] due to args.save_total_limit\n",
      "Saving model checkpoint to models/roberta-base-classifier/checkpoint-7000\n",
      "Configuration saved in models/roberta-base-classifier/checkpoint-7000/config.json\n",
      "Model weights saved in models/roberta-base-classifier/checkpoint-7000/pytorch_model.bin\n",
      "Deleting older checkpoint [models/roberta-base-classifier/checkpoint-2000] due to args.save_total_limit\n",
      "Saving model checkpoint to models/roberta-base-classifier/checkpoint-7500\n",
      "Configuration saved in models/roberta-base-classifier/checkpoint-7500/config.json\n",
      "Model weights saved in models/roberta-base-classifier/checkpoint-7500/pytorch_model.bin\n",
      "Deleting older checkpoint [models/roberta-base-classifier/checkpoint-2500] due to args.save_total_limit\n",
      "Saving model checkpoint to models/roberta-base-classifier/checkpoint-8000\n",
      "Configuration saved in models/roberta-base-classifier/checkpoint-8000/config.json\n",
      "Model weights saved in models/roberta-base-classifier/checkpoint-8000/pytorch_model.bin\n",
      "Deleting older checkpoint [models/roberta-base-classifier/checkpoint-3000] due to args.save_total_limit\n",
      "Saving model checkpoint to models/roberta-base-classifier/checkpoint-8500\n",
      "Configuration saved in models/roberta-base-classifier/checkpoint-8500/config.json\n",
      "Model weights saved in models/roberta-base-classifier/checkpoint-8500/pytorch_model.bin\n",
      "Deleting older checkpoint [models/roberta-base-classifier/checkpoint-3500] due to args.save_total_limit\n",
      "Saving model checkpoint to models/roberta-base-classifier/checkpoint-9000\n",
      "Configuration saved in models/roberta-base-classifier/checkpoint-9000/config.json\n",
      "Model weights saved in models/roberta-base-classifier/checkpoint-9000/pytorch_model.bin\n",
      "Deleting older checkpoint [models/roberta-base-classifier/checkpoint-4000] due to args.save_total_limit\n",
      "Saving model checkpoint to models/roberta-base-classifier/checkpoint-9500\n",
      "Configuration saved in models/roberta-base-classifier/checkpoint-9500/config.json\n",
      "Model weights saved in models/roberta-base-classifier/checkpoint-9500/pytorch_model.bin\n",
      "Deleting older checkpoint [models/roberta-base-classifier/checkpoint-4500] due to args.save_total_limit\n",
      "Saving model checkpoint to models/roberta-base-classifier/checkpoint-10000\n",
      "Configuration saved in models/roberta-base-classifier/checkpoint-10000/config.json\n",
      "Model weights saved in models/roberta-base-classifier/checkpoint-10000/pytorch_model.bin\n",
      "Deleting older checkpoint [models/roberta-base-classifier/checkpoint-5000] due to args.save_total_limit\n",
      "Saving model checkpoint to models/roberta-base-classifier/checkpoint-10500\n",
      "Configuration saved in models/roberta-base-classifier/checkpoint-10500/config.json\n",
      "Model weights saved in models/roberta-base-classifier/checkpoint-10500/pytorch_model.bin\n",
      "Deleting older checkpoint [models/roberta-base-classifier/checkpoint-5500] due to args.save_total_limit\n",
      "Saving model checkpoint to models/roberta-base-classifier/checkpoint-11000\n",
      "Configuration saved in models/roberta-base-classifier/checkpoint-11000/config.json\n",
      "Model weights saved in models/roberta-base-classifier/checkpoint-11000/pytorch_model.bin\n",
      "Deleting older checkpoint [models/roberta-base-classifier/checkpoint-6000] due to args.save_total_limit\n",
      "Saving model checkpoint to models/roberta-base-classifier/checkpoint-11500\n",
      "Configuration saved in models/roberta-base-classifier/checkpoint-11500/config.json\n",
      "Model weights saved in models/roberta-base-classifier/checkpoint-11500/pytorch_model.bin\n",
      "Deleting older checkpoint [models/roberta-base-classifier/checkpoint-6500] due to args.save_total_limit\n",
      "Saving model checkpoint to models/roberta-base-classifier/checkpoint-12000\n",
      "Configuration saved in models/roberta-base-classifier/checkpoint-12000/config.json\n",
      "Model weights saved in models/roberta-base-classifier/checkpoint-12000/pytorch_model.bin\n",
      "Deleting older checkpoint [models/roberta-base-classifier/checkpoint-7000] due to args.save_total_limit\n",
      "Saving model checkpoint to models/roberta-base-classifier/checkpoint-12500\n",
      "Configuration saved in models/roberta-base-classifier/checkpoint-12500/config.json\n",
      "Model weights saved in models/roberta-base-classifier/checkpoint-12500/pytorch_model.bin\n",
      "Deleting older checkpoint [models/roberta-base-classifier/checkpoint-7500] due to args.save_total_limit\n",
      "Saving model checkpoint to models/roberta-base-classifier/checkpoint-13000\n",
      "Configuration saved in models/roberta-base-classifier/checkpoint-13000/config.json\n",
      "Model weights saved in models/roberta-base-classifier/checkpoint-13000/pytorch_model.bin\n",
      "Deleting older checkpoint [models/roberta-base-classifier/checkpoint-8000] due to args.save_total_limit\n",
      "Saving model checkpoint to models/roberta-base-classifier/checkpoint-13500\n",
      "Configuration saved in models/roberta-base-classifier/checkpoint-13500/config.json\n",
      "Model weights saved in models/roberta-base-classifier/checkpoint-13500/pytorch_model.bin\n",
      "Deleting older checkpoint [models/roberta-base-classifier/checkpoint-8500] due to args.save_total_limit\n",
      "Saving model checkpoint to models/roberta-base-classifier/checkpoint-14000\n",
      "Configuration saved in models/roberta-base-classifier/checkpoint-14000/config.json\n",
      "Model weights saved in models/roberta-base-classifier/checkpoint-14000/pytorch_model.bin\n",
      "Deleting older checkpoint [models/roberta-base-classifier/checkpoint-9000] due to args.save_total_limit\n",
      "Saving model checkpoint to models/roberta-base-classifier/checkpoint-14500\n",
      "Configuration saved in models/roberta-base-classifier/checkpoint-14500/config.json\n",
      "Model weights saved in models/roberta-base-classifier/checkpoint-14500/pytorch_model.bin\n",
      "Deleting older checkpoint [models/roberta-base-classifier/checkpoint-9500] due to args.save_total_limit\n",
      "Saving model checkpoint to models/roberta-base-classifier/checkpoint-15000\n",
      "Configuration saved in models/roberta-base-classifier/checkpoint-15000/config.json\n",
      "Model weights saved in models/roberta-base-classifier/checkpoint-15000/pytorch_model.bin\n",
      "Deleting older checkpoint [models/roberta-base-classifier/checkpoint-10000] due to args.save_total_limit\n",
      "Saving model checkpoint to models/roberta-base-classifier/checkpoint-15500\n",
      "Configuration saved in models/roberta-base-classifier/checkpoint-15500/config.json\n",
      "Model weights saved in models/roberta-base-classifier/checkpoint-15500/pytorch_model.bin\n",
      "Deleting older checkpoint [models/roberta-base-classifier/checkpoint-10500] due to args.save_total_limit\n",
      "Saving model checkpoint to models/roberta-base-classifier/checkpoint-16000\n",
      "Configuration saved in models/roberta-base-classifier/checkpoint-16000/config.json\n",
      "Model weights saved in models/roberta-base-classifier/checkpoint-16000/pytorch_model.bin\n",
      "Deleting older checkpoint [models/roberta-base-classifier/checkpoint-11000] due to args.save_total_limit\n",
      "Saving model checkpoint to models/roberta-base-classifier/checkpoint-16500\n",
      "Configuration saved in models/roberta-base-classifier/checkpoint-16500/config.json\n",
      "Model weights saved in models/roberta-base-classifier/checkpoint-16500/pytorch_model.bin\n",
      "Deleting older checkpoint [models/roberta-base-classifier/checkpoint-11500] due to args.save_total_limit\n",
      "Saving model checkpoint to models/roberta-base-classifier/checkpoint-17000\n",
      "Configuration saved in models/roberta-base-classifier/checkpoint-17000/config.json\n",
      "Model weights saved in models/roberta-base-classifier/checkpoint-17000/pytorch_model.bin\n",
      "Deleting older checkpoint [models/roberta-base-classifier/checkpoint-12000] due to args.save_total_limit\n",
      "Saving model checkpoint to models/roberta-base-classifier/checkpoint-17500\n",
      "Configuration saved in models/roberta-base-classifier/checkpoint-17500/config.json\n",
      "Model weights saved in models/roberta-base-classifier/checkpoint-17500/pytorch_model.bin\n",
      "Deleting older checkpoint [models/roberta-base-classifier/checkpoint-12500] due to args.save_total_limit\n",
      "Saving model checkpoint to models/roberta-base-classifier/checkpoint-18000\n",
      "Configuration saved in models/roberta-base-classifier/checkpoint-18000/config.json\n",
      "Model weights saved in models/roberta-base-classifier/checkpoint-18000/pytorch_model.bin\n",
      "Deleting older checkpoint [models/roberta-base-classifier/checkpoint-13000] due to args.save_total_limit\n",
      "Saving model checkpoint to models/roberta-base-classifier/checkpoint-18500\n",
      "Configuration saved in models/roberta-base-classifier/checkpoint-18500/config.json\n",
      "Model weights saved in models/roberta-base-classifier/checkpoint-18500/pytorch_model.bin\n",
      "Deleting older checkpoint [models/roberta-base-classifier/checkpoint-13500] due to args.save_total_limit\n",
      "Saving model checkpoint to models/roberta-base-classifier/checkpoint-19000\n",
      "Configuration saved in models/roberta-base-classifier/checkpoint-19000/config.json\n",
      "Model weights saved in models/roberta-base-classifier/checkpoint-19000/pytorch_model.bin\n",
      "Deleting older checkpoint [models/roberta-base-classifier/checkpoint-14000] due to args.save_total_limit\n",
      "Saving model checkpoint to models/roberta-base-classifier/checkpoint-19500\n",
      "Configuration saved in models/roberta-base-classifier/checkpoint-19500/config.json\n",
      "Model weights saved in models/roberta-base-classifier/checkpoint-19500/pytorch_model.bin\n",
      "Deleting older checkpoint [models/roberta-base-classifier/checkpoint-14500] due to args.save_total_limit\n",
      "Saving model checkpoint to models/roberta-base-classifier/checkpoint-20000\n",
      "Configuration saved in models/roberta-base-classifier/checkpoint-20000/config.json\n",
      "Model weights saved in models/roberta-base-classifier/checkpoint-20000/pytorch_model.bin\n",
      "Deleting older checkpoint [models/roberta-base-classifier/checkpoint-15000] due to args.save_total_limit\n",
      "Saving model checkpoint to models/roberta-base-classifier/checkpoint-20500\n",
      "Configuration saved in models/roberta-base-classifier/checkpoint-20500/config.json\n",
      "Model weights saved in models/roberta-base-classifier/checkpoint-20500/pytorch_model.bin\n",
      "Deleting older checkpoint [models/roberta-base-classifier/checkpoint-15500] due to args.save_total_limit\n",
      "Saving model checkpoint to models/roberta-base-classifier/checkpoint-21000\n",
      "Configuration saved in models/roberta-base-classifier/checkpoint-21000/config.json\n",
      "Model weights saved in models/roberta-base-classifier/checkpoint-21000/pytorch_model.bin\n",
      "Deleting older checkpoint [models/roberta-base-classifier/checkpoint-16000] due to args.save_total_limit\n",
      "Saving model checkpoint to models/roberta-base-classifier/checkpoint-21500\n",
      "Configuration saved in models/roberta-base-classifier/checkpoint-21500/config.json\n",
      "Model weights saved in models/roberta-base-classifier/checkpoint-21500/pytorch_model.bin\n",
      "Deleting older checkpoint [models/roberta-base-classifier/checkpoint-16500] due to args.save_total_limit\n",
      "Saving model checkpoint to models/roberta-base-classifier/checkpoint-22000\n",
      "Configuration saved in models/roberta-base-classifier/checkpoint-22000/config.json\n",
      "Model weights saved in models/roberta-base-classifier/checkpoint-22000/pytorch_model.bin\n",
      "Deleting older checkpoint [models/roberta-base-classifier/checkpoint-17000] due to args.save_total_limit\n",
      "Saving model checkpoint to models/roberta-base-classifier/checkpoint-22500\n",
      "Configuration saved in models/roberta-base-classifier/checkpoint-22500/config.json\n",
      "Model weights saved in models/roberta-base-classifier/checkpoint-22500/pytorch_model.bin\n",
      "Deleting older checkpoint [models/roberta-base-classifier/checkpoint-17500] due to args.save_total_limit\n",
      "Saving model checkpoint to models/roberta-base-classifier/checkpoint-23000\n",
      "Configuration saved in models/roberta-base-classifier/checkpoint-23000/config.json\n",
      "Model weights saved in models/roberta-base-classifier/checkpoint-23000/pytorch_model.bin\n",
      "Deleting older checkpoint [models/roberta-base-classifier/checkpoint-18000] due to args.save_total_limit\n",
      "Saving model checkpoint to models/roberta-base-classifier/checkpoint-23500\n",
      "Configuration saved in models/roberta-base-classifier/checkpoint-23500/config.json\n",
      "Model weights saved in models/roberta-base-classifier/checkpoint-23500/pytorch_model.bin\n",
      "Deleting older checkpoint [models/roberta-base-classifier/checkpoint-18500] due to args.save_total_limit\n",
      "Saving model checkpoint to models/roberta-base-classifier/checkpoint-24000\n",
      "Configuration saved in models/roberta-base-classifier/checkpoint-24000/config.json\n",
      "Model weights saved in models/roberta-base-classifier/checkpoint-24000/pytorch_model.bin\n",
      "Deleting older checkpoint [models/roberta-base-classifier/checkpoint-19000] due to args.save_total_limit\n",
      "Saving model checkpoint to models/roberta-base-classifier/checkpoint-24500\n",
      "Configuration saved in models/roberta-base-classifier/checkpoint-24500/config.json\n",
      "Model weights saved in models/roberta-base-classifier/checkpoint-24500/pytorch_model.bin\n",
      "Deleting older checkpoint [models/roberta-base-classifier/checkpoint-19500] due to args.save_total_limit\n",
      "Saving model checkpoint to models/roberta-base-classifier/checkpoint-25000\n",
      "Configuration saved in models/roberta-base-classifier/checkpoint-25000/config.json\n",
      "Model weights saved in models/roberta-base-classifier/checkpoint-25000/pytorch_model.bin\n",
      "Deleting older checkpoint [models/roberta-base-classifier/checkpoint-20000] due to args.save_total_limit\n",
      "Saving model checkpoint to models/roberta-base-classifier/checkpoint-25500\n",
      "Configuration saved in models/roberta-base-classifier/checkpoint-25500/config.json\n",
      "Model weights saved in models/roberta-base-classifier/checkpoint-25500/pytorch_model.bin\n",
      "Deleting older checkpoint [models/roberta-base-classifier/checkpoint-20500] due to args.save_total_limit\n",
      "Saving model checkpoint to models/roberta-base-classifier/checkpoint-26000\n",
      "Configuration saved in models/roberta-base-classifier/checkpoint-26000/config.json\n",
      "Model weights saved in models/roberta-base-classifier/checkpoint-26000/pytorch_model.bin\n",
      "Deleting older checkpoint [models/roberta-base-classifier/checkpoint-21000] due to args.save_total_limit\n",
      "Saving model checkpoint to models/roberta-base-classifier/checkpoint-26500\n",
      "Configuration saved in models/roberta-base-classifier/checkpoint-26500/config.json\n",
      "Model weights saved in models/roberta-base-classifier/checkpoint-26500/pytorch_model.bin\n",
      "Deleting older checkpoint [models/roberta-base-classifier/checkpoint-21500] due to args.save_total_limit\n",
      "Saving model checkpoint to models/roberta-base-classifier/checkpoint-27000\n",
      "Configuration saved in models/roberta-base-classifier/checkpoint-27000/config.json\n",
      "Model weights saved in models/roberta-base-classifier/checkpoint-27000/pytorch_model.bin\n",
      "Deleting older checkpoint [models/roberta-base-classifier/checkpoint-22000] due to args.save_total_limit\n",
      "Saving model checkpoint to models/roberta-base-classifier/checkpoint-27500\n",
      "Configuration saved in models/roberta-base-classifier/checkpoint-27500/config.json\n",
      "Model weights saved in models/roberta-base-classifier/checkpoint-27500/pytorch_model.bin\n",
      "Deleting older checkpoint [models/roberta-base-classifier/checkpoint-22500] due to args.save_total_limit\n",
      "Saving model checkpoint to models/roberta-base-classifier/checkpoint-28000\n",
      "Configuration saved in models/roberta-base-classifier/checkpoint-28000/config.json\n",
      "Model weights saved in models/roberta-base-classifier/checkpoint-28000/pytorch_model.bin\n",
      "Deleting older checkpoint [models/roberta-base-classifier/checkpoint-23000] due to args.save_total_limit\n",
      "Saving model checkpoint to models/roberta-base-classifier/checkpoint-28500\n",
      "Configuration saved in models/roberta-base-classifier/checkpoint-28500/config.json\n",
      "Model weights saved in models/roberta-base-classifier/checkpoint-28500/pytorch_model.bin\n",
      "Deleting older checkpoint [models/roberta-base-classifier/checkpoint-23500] due to args.save_total_limit\n",
      "Saving model checkpoint to models/roberta-base-classifier/checkpoint-29000\n",
      "Configuration saved in models/roberta-base-classifier/checkpoint-29000/config.json\n",
      "Model weights saved in models/roberta-base-classifier/checkpoint-29000/pytorch_model.bin\n",
      "Deleting older checkpoint [models/roberta-base-classifier/checkpoint-24000] due to args.save_total_limit\n",
      "Saving model checkpoint to models/roberta-base-classifier/checkpoint-29500\n",
      "Configuration saved in models/roberta-base-classifier/checkpoint-29500/config.json\n",
      "Model weights saved in models/roberta-base-classifier/checkpoint-29500/pytorch_model.bin\n",
      "Deleting older checkpoint [models/roberta-base-classifier/checkpoint-24500] due to args.save_total_limit\n",
      "Saving model checkpoint to models/roberta-base-classifier/checkpoint-30000\n",
      "Configuration saved in models/roberta-base-classifier/checkpoint-30000/config.json\n",
      "Model weights saved in models/roberta-base-classifier/checkpoint-30000/pytorch_model.bin\n",
      "Deleting older checkpoint [models/roberta-base-classifier/checkpoint-25000] due to args.save_total_limit\n",
      "\n",
      "\n",
      "Training completed. Do not forget to share your model on huggingface.co/models =)\n",
      "\n",
      "\n"
     ]
    },
    {
     "data": {
      "text/plain": "TrainOutput(global_step=30000, training_loss=0.4000177607218425, metrics={'train_runtime': 10893.9131, 'train_samples_per_second': 22.031, 'train_steps_per_second': 2.754, 'total_flos': 1.781438496768e+16, 'train_loss': 0.4000177607218425, 'epoch': 3.0})"
     },
     "execution_count": 12,
     "metadata": {},
     "output_type": "execute_result"
    }
   ],
   "source": [
    "trainer = Trainer(\n",
    "    model=model,\n",
    "    args=trainer_args,\n",
    "    train_dataset=tokenized_datasets['train'],\n",
    "    compute_metrics=metric_fn\n",
    ")\n",
    "\n",
    "print(\"Training...\")\n",
    "trainer.train()"
   ],
   "metadata": {
    "collapsed": false,
    "pycharm": {
     "name": "#%%\n"
    }
   }
  },
  {
   "cell_type": "code",
   "execution_count": 13,
   "outputs": [],
   "source": [
    "save_path = 'data/classifier_data/gpt2_weak_test_CM.png'"
   ],
   "metadata": {
    "collapsed": false,
    "pycharm": {
     "name": "#%%\n"
    }
   }
  },
  {
   "cell_type": "code",
   "execution_count": 14,
   "outputs": [
    {
     "name": "stderr",
     "output_type": "stream",
     "text": [
      "The following columns in the evaluation set  don't have a corresponding argument in `BertForSequenceClassification.forward` and have been ignored: text.\n",
      "***** Running Evaluation *****\n",
      "  Num examples = 20000\n",
      "  Batch size = 8\n"
     ]
    },
    {
     "data": {
      "text/plain": "<IPython.core.display.HTML object>",
      "text/html": "\n    <div>\n      \n      <progress value='1' max='2500' style='width:300px; height:20px; vertical-align: middle;'></progress>\n      [   1/2500 : < :]\n    </div>\n    "
     },
     "metadata": {},
     "output_type": "display_data"
    },
    {
     "data": {
      "text/plain": "<Figure size 432x288 with 2 Axes>",
      "image/png": "[encoded data removed]"
     },
     "metadata": {
      "needs_background": "light"
     },
     "output_type": "display_data"
    },
    {
     "data": {
      "text/plain": "{'eval_loss': 0.6497917175292969,\n 'eval_recall': 0.8334,\n 'eval_runtime': 272.2256,\n 'eval_samples_per_second': 73.468,\n 'eval_steps_per_second': 9.184,\n 'epoch': 3.0}"
     },
     "execution_count": 14,
     "metadata": {},
     "output_type": "execute_result"
    }
   ],
   "source": [
    "trainer.evaluate(tokenized_datasets['test'])"
   ],
   "metadata": {
    "collapsed": false,
    "pycharm": {
     "name": "#%%\n"
    }
   }
  },
  {
   "cell_type": "code",
   "execution_count": 15,
   "outputs": [],
   "source": [
    "save_path = 'data/classifier_data/gpt2_strong_test_CM.png'"
   ],
   "metadata": {
    "collapsed": false,
    "pycharm": {
     "name": "#%%\n"
    }
   }
  },
  {
   "cell_type": "code",
   "execution_count": 16,
   "outputs": [
    {
     "name": "stderr",
     "output_type": "stream",
     "text": [
      "The following columns in the evaluation set  don't have a corresponding argument in `BertForSequenceClassification.forward` and have been ignored: text.\n",
      "***** Running Evaluation *****\n",
      "  Num examples = 20000\n",
      "  Batch size = 8\n"
     ]
    },
    {
     "data": {
      "text/plain": "<Figure size 432x288 with 2 Axes>",
      "image/png": "[encoded data removed]"
     },
     "metadata": {
      "needs_background": "light"
     },
     "output_type": "display_data"
    },
    {
     "data": {
      "text/plain": "{'eval_loss': 2.55733060836792,\n 'eval_recall': 0.1223,\n 'eval_runtime': 272.7952,\n 'eval_samples_per_second': 73.315,\n 'eval_steps_per_second': 9.164,\n 'epoch': 3.0}"
     },
     "execution_count": 16,
     "metadata": {},
     "output_type": "execute_result"
    }
   ],
   "source": [
    "trainer.evaluate(tokenized_datasets['test_strong'])"
   ],
   "metadata": {
    "collapsed": false,
    "pycharm": {
     "name": "#%%\n"
    }
   }
  },
  {
   "cell_type": "code",
   "execution_count": 17,
   "outputs": [],
   "source": [
    "import mlflow\n",
    "mlflow.end_run()"
   ],
   "metadata": {
    "collapsed": false,
    "pycharm": {
     "name": "#%%\n"
    }
   }
  }
 ],
 "metadata": {
  "kernelspec": {
   "display_name": "Python 3",
   "language": "python",
   "name": "python3"
  },
  "language_info": {
   "codemirror_mode": {
    "name": "ipython",
    "version": 2
   },
   "file_extension": ".py",
   "mimetype": "text/x-python",
   "name": "python",
   "nbconvert_exporter": "python",
   "pygments_lexer": "ipython2",
   "version": "2.7.6"
  }
 },
 "nbformat": 4,
 "nbformat_minor": 0
}