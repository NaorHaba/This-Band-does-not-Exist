{
 "cells": [
  {
   "cell_type": "code",
   "execution_count": 1,
   "metadata": {
    "collapsed": true
   },
   "outputs": [],
   "source": [
    "import pandas as pd\n",
    "\n",
    "%load_ext autoreload\n",
    "%autoreload 2"
   ]
  },
  {
   "cell_type": "code",
   "execution_count": 2,
   "outputs": [
    {
     "name": "stdout",
     "output_type": "stream",
     "text": [
      "/home/vmadmin/project\n"
     ]
    }
   ],
   "source": [
    "%cd .."
   ],
   "metadata": {
    "collapsed": false,
    "pycharm": {
     "name": "#%%\n"
    }
   }
  },
  {
   "cell_type": "markdown",
   "source": [
    "# Create model-generated data:"
   ],
   "metadata": {
    "collapsed": false,
    "pycharm": {
     "name": "#%% md\n"
    }
   }
  },
  {
   "cell_type": "code",
   "execution_count": null,
   "outputs": [],
   "source": [
    "from company_generator import CompanyGenerator"
   ],
   "metadata": {
    "collapsed": false,
    "pycharm": {
     "name": "#%%\n"
    }
   }
  },
  {
   "cell_type": "code",
   "execution_count": null,
   "outputs": [],
   "source": [
    "wg = CompanyGenerator('models/gpt2_forward_model', blacklist_path='data/company_blacklist.pickle', industries_path='data/industries.pickle')"
   ],
   "metadata": {
    "collapsed": false,
    "pycharm": {
     "name": "#%%\n"
    }
   }
  },
  {
   "cell_type": "code",
   "execution_count": null,
   "outputs": [],
   "source": [
    "import numpy as np\n",
    "\n",
    "gen_comps, gen_stats = wg.generate_companies(num=50000, max_iterations=np.inf, generation_args=dict(top_k=300, num_return_sequences=48, max_length=512, do_sample=True), save_path='data/generated_companies.csv')"
   ],
   "metadata": {
    "collapsed": false,
    "pycharm": {
     "name": "#%%\n"
    }
   }
  },
  {
   "cell_type": "markdown",
   "source": [
    "# Create tfidf&random-generated data:"
   ],
   "metadata": {
    "collapsed": false,
    "pycharm": {
     "name": "#%% md\n"
    }
   }
  },
  {
   "cell_type": "code",
   "execution_count": 3,
   "outputs": [],
   "source": [
    "from weak_generator import WeakFakeGenerator"
   ],
   "metadata": {
    "collapsed": false,
    "pycharm": {
     "name": "#%%\n"
    }
   }
  },
  {
   "cell_type": "code",
   "execution_count": 4,
   "outputs": [
    {
     "name": "stdout",
     "output_type": "stream",
     "text": [
      "Loading tfidf model from path... done.\n"
     ]
    }
   ],
   "source": [
    "wg = WeakFakeGenerator('data/all_data.csv', save_cache='models/tfidf_model/tfidf_model_corpus_dict_industries.pickle')"
   ],
   "metadata": {
    "collapsed": false,
    "pycharm": {
     "name": "#%%\n"
    }
   }
  },
  {
   "cell_type": "code",
   "execution_count": 11,
   "outputs": [
    {
     "data": {
      "text/plain": "                                   company_name                   industry  \\\n0                               all people weds     hospital & health care   \n1                               infinity travel                hospitality   \n2      clark marine maintenance & refrigeration          consumer services   \n3                      mackenville eye supplies                 automotive   \n4                             tecpa finance ltd               construction   \n...                                         ...                        ...   \n49995                   go financial strategies         financial services   \n49996                              finchpro ltd              entertainment   \n49997                                     abibc                 accounting   \n49998                           smartly connect                   printing   \n49999                   healthline safety tours  leisure, travel & tourism   \n\n                                                    text  \n0      Home - All People Weds About Leadership Initia...  \n1      We Travel Here, Entertain Here, Entertain Here...  \n2      Clark Marine Maintenance & Refrigeration | Ser...  \n3      Mackenville Eye Supplies | Optical | Cosmetic ...  \n4      Home Page | Tecpa Finance Ltd Home What we off...  \n...                                                  ...  \n49995  Go Financial Strategies HOME - GO Financial St...  \n49996  Home - FinchPro Skip to content Search for... ...  \n49997  Accountant Broker | Brisbane | Abibc Australia...  \n49998  Smartly Connect home about services contact ho...  \n49999  Healthline Safety Tours | Safety Consultations...  \n\n[50000 rows x 3 columns]",
      "text/html": "<div>\n<style scoped>\n    .dataframe tbody tr th:only-of-type {\n        vertical-align: middle;\n    }\n\n    .dataframe tbody tr th {\n        vertical-align: top;\n    }\n\n    .dataframe thead th {\n        text-align: right;\n    }\n</style>\n<table border=\"1\" class=\"dataframe\">\n  <thead>\n    <tr style=\"text-align: right;\">\n      <th></th>\n      <th>company_name</th>\n      <th>industry</th>\n      <th>text</th>\n    </tr>\n  </thead>\n  <tbody>\n    <tr>\n      <th>0</th>\n      <td>all people weds</td>\n      <td>hospital &amp; health care</td>\n      <td>Home - All People Weds About Leadership Initia...</td>\n    </tr>\n    <tr>\n      <th>1</th>\n      <td>infinity travel</td>\n      <td>hospitality</td>\n      <td>We Travel Here, Entertain Here, Entertain Here...</td>\n    </tr>\n    <tr>\n      <th>2</th>\n      <td>clark marine maintenance &amp; refrigeration</td>\n      <td>consumer services</td>\n      <td>Clark Marine Maintenance &amp; Refrigeration | Ser...</td>\n    </tr>\n    <tr>\n      <th>3</th>\n      <td>mackenville eye supplies</td>\n      <td>automotive</td>\n      <td>Mackenville Eye Supplies | Optical | Cosmetic ...</td>\n    </tr>\n    <tr>\n      <th>4</th>\n      <td>tecpa finance ltd</td>\n      <td>construction</td>\n      <td>Home Page | Tecpa Finance Ltd Home What we off...</td>\n    </tr>\n    <tr>\n      <th>...</th>\n      <td>...</td>\n      <td>...</td>\n      <td>...</td>\n    </tr>\n    <tr>\n      <th>49995</th>\n      <td>go financial strategies</td>\n      <td>financial services</td>\n      <td>Go Financial Strategies HOME - GO Financial St...</td>\n    </tr>\n    <tr>\n      <th>49996</th>\n      <td>finchpro ltd</td>\n      <td>entertainment</td>\n      <td>Home - FinchPro Skip to content Search for... ...</td>\n    </tr>\n    <tr>\n      <th>49997</th>\n      <td>abibc</td>\n      <td>accounting</td>\n      <td>Accountant Broker | Brisbane | Abibc Australia...</td>\n    </tr>\n    <tr>\n      <th>49998</th>\n      <td>smartly connect</td>\n      <td>printing</td>\n      <td>Smartly Connect home about services contact ho...</td>\n    </tr>\n    <tr>\n      <th>49999</th>\n      <td>healthline safety tours</td>\n      <td>leisure, travel &amp; tourism</td>\n      <td>Healthline Safety Tours | Safety Consultations...</td>\n    </tr>\n  </tbody>\n</table>\n<p>50000 rows × 3 columns</p>\n</div>"
     },
     "execution_count": 11,
     "metadata": {},
     "output_type": "execute_result"
    }
   ],
   "source": [
    "# tfidf & random are generated using a dataframe of existing companies\n",
    "# we use the model-generated companies for that:\n",
    "strong_fake = pd.read_csv('data/strong_generated_companies.csv')\n",
    "strong_fake"
   ],
   "metadata": {
    "collapsed": false,
    "pycharm": {
     "name": "#%%\n"
    }
   }
  },
  {
   "cell_type": "code",
   "execution_count": 10,
   "outputs": [],
   "source": [
    "# create and save the tfidf & random\n",
    "wg.generate(strong_fake, tfidf=True, save_path='data/weak_tfidf.csv')\n",
    "wg.generate(strong_fake, tfidf=False, save_path='data/weak_random.csv')"
   ],
   "metadata": {
    "collapsed": false,
    "pycharm": {
     "name": "#%%\n"
    }
   }
  },
  {
   "cell_type": "markdown",
   "source": [
    "# Create and save training and testing data from each of the generated datasets"
   ],
   "metadata": {
    "collapsed": false,
    "pycharm": {
     "name": "#%% md\n"
    }
   }
  },
  {
   "cell_type": "code",
   "execution_count": 12,
   "outputs": [],
   "source": [
    "from utils import clean_text\n",
    "\n",
    "real_all = pd.read_csv('data/all_data.csv', index_col=0, nrows=50000, lineterminator='\\n')\n",
    "real_all['text'] = real_all.text.apply(clean_text)\n",
    "real_all['company_name'] = real_all.company_name.apply(lambda s: s.replace('-', ' '))\n",
    "weak_tfidf = pd.read_csv('data/weak_tfidf.csv', index_col=0)\n",
    "weak_random = pd.read_csv('data/weak_random.csv', index_col=0)\n",
    "\n",
    "real_all['label'] = False\n",
    "for fake in [strong_fake, weak_tfidf, weak_random]:\n",
    "    fake['label'] = True"
   ],
   "metadata": {
    "collapsed": false,
    "pycharm": {
     "name": "#%%\n"
    }
   }
  },
  {
   "cell_type": "code",
   "execution_count": 13,
   "outputs": [],
   "source": [
    "real_all_train, real_all_test = real_all.iloc[:40000], real_all.iloc[40000:]\n",
    "weak_tfidf_train, weak_tfidf_test = weak_tfidf.iloc[:40000], weak_tfidf.iloc[40000:]\n",
    "weak_random_train, weak_random_test = weak_random.iloc[:40000], weak_random.iloc[40000:]\n",
    "strong_fake_train, strong_fake_test = strong_fake.iloc[:40000], strong_fake.iloc[40000:]"
   ],
   "metadata": {
    "collapsed": false,
    "pycharm": {
     "name": "#%%\n"
    }
   }
  },
  {
   "cell_type": "code",
   "execution_count": 9,
   "outputs": [],
   "source": [
    "pd.concat([real_all_train, weak_tfidf_train], axis=0, ignore_index=True).to_csv('data/classifier_data/tfidf_real_train.csv', index=False)\n",
    "pd.concat([real_all_test, weak_tfidf_test], axis=0, ignore_index=True).to_csv('data/classifier_data/tfidf_real_test.csv', index=False)\n",
    "pd.concat([real_all_train, weak_random_train], axis=0, ignore_index=True).to_csv('data/classifier_data/random_real_train.csv', index=False)\n",
    "pd.concat([real_all_test, weak_random_test], axis=0, ignore_index=True).to_csv('data/classifier_data/random_real_test.csv', index=False)\n",
    "pd.concat([real_all_train, strong_fake_train], axis=0, ignore_index=True).to_csv('data/classifier_data/generated_real_train.csv', index=False)\n",
    "pd.concat([real_all_test, strong_fake_test], axis=0, ignore_index=True).to_csv('data/classifier_data/generated_real_test.csv', index=False)"
   ],
   "metadata": {
    "collapsed": false,
    "pycharm": {
     "name": "#%%\n"
    }
   }
  }
 ],
 "metadata": {
  "kernelspec": {
   "display_name": "Python 3",
   "language": "python",
   "name": "python3"
  },
  "language_info": {
   "codemirror_mode": {
    "name": "ipython",
    "version": 2
   },
   "file_extension": ".py",
   "mimetype": "text/x-python",
   "name": "python",
   "nbconvert_exporter": "python",
   "pygments_lexer": "ipython2",
   "version": "2.7.6"
  }
 },
 "nbformat": 4,
 "nbformat_minor": 0
}