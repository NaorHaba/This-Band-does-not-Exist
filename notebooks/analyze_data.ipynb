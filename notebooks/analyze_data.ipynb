{
 "cells": [
  {
   "cell_type": "code",
   "execution_count": 23,
   "metadata": {
    "collapsed": true
   },
   "outputs": [],
   "source": [
    "import matplotlib.pyplot as plt\n",
    "import pandas as pd"
   ]
  },
  {
   "cell_type": "code",
   "execution_count": 5,
   "outputs": [],
   "source": [
    "df = pd.read_csv('data/train.csv')"
   ],
   "metadata": {
    "collapsed": false,
    "pycharm": {
     "name": "#%%\n"
    }
   }
  },
  {
   "cell_type": "code",
   "execution_count": 6,
   "outputs": [
    {
     "data": {
      "text/plain": "Index(['Artist', 'Song', 'Genre', 'Language', 'Lyrics'], dtype='object')"
     },
     "execution_count": 6,
     "metadata": {},
     "output_type": "execute_result"
    }
   ],
   "source": [
    "df.columns"
   ],
   "metadata": {
    "collapsed": false,
    "pycharm": {
     "name": "#%%\n"
    }
   }
  },
  {
   "cell_type": "code",
   "execution_count": 7,
   "outputs": [
    {
     "data": {
      "text/plain": "(290183, 5)"
     },
     "execution_count": 7,
     "metadata": {},
     "output_type": "execute_result"
    }
   ],
   "source": [
    "df.shape"
   ],
   "metadata": {
    "collapsed": false,
    "pycharm": {
     "name": "#%%\n"
    }
   }
  },
  {
   "cell_type": "code",
   "execution_count": 8,
   "outputs": [
    {
     "data": {
      "text/plain": "      Artist                     Song Genre Language  \\\n0  12 stones            world so cold  Rock       en   \n1  12 stones                   broken  Rock       en   \n2  12 stones             3 leaf loser  Rock       en   \n3  12 stones  anthem for the underdog  Rock       en   \n4  12 stones               adrenaline  Rock       en   \n\n                                              Lyrics  \n0  It starts with pain, followed by hate\\nFueled ...  \n1  Freedom!\\nAlone again again alone\\nPatiently w...  \n2  Biting the hand that feeds you, lying to the v...  \n3  You say you know just who I am\\nBut you can't ...  \n4  My heart is beating faster can't control these...  ",
      "text/html": "<div>\n<style scoped>\n    .dataframe tbody tr th:only-of-type {\n        vertical-align: middle;\n    }\n\n    .dataframe tbody tr th {\n        vertical-align: top;\n    }\n\n    .dataframe thead th {\n        text-align: right;\n    }\n</style>\n<table border=\"1\" class=\"dataframe\">\n  <thead>\n    <tr style=\"text-align: right;\">\n      <th></th>\n      <th>Artist</th>\n      <th>Song</th>\n      <th>Genre</th>\n      <th>Language</th>\n      <th>Lyrics</th>\n    </tr>\n  </thead>\n  <tbody>\n    <tr>\n      <th>0</th>\n      <td>12 stones</td>\n      <td>world so cold</td>\n      <td>Rock</td>\n      <td>en</td>\n      <td>It starts with pain, followed by hate\\nFueled ...</td>\n    </tr>\n    <tr>\n      <th>1</th>\n      <td>12 stones</td>\n      <td>broken</td>\n      <td>Rock</td>\n      <td>en</td>\n      <td>Freedom!\\nAlone again again alone\\nPatiently w...</td>\n    </tr>\n    <tr>\n      <th>2</th>\n      <td>12 stones</td>\n      <td>3 leaf loser</td>\n      <td>Rock</td>\n      <td>en</td>\n      <td>Biting the hand that feeds you, lying to the v...</td>\n    </tr>\n    <tr>\n      <th>3</th>\n      <td>12 stones</td>\n      <td>anthem for the underdog</td>\n      <td>Rock</td>\n      <td>en</td>\n      <td>You say you know just who I am\\nBut you can't ...</td>\n    </tr>\n    <tr>\n      <th>4</th>\n      <td>12 stones</td>\n      <td>adrenaline</td>\n      <td>Rock</td>\n      <td>en</td>\n      <td>My heart is beating faster can't control these...</td>\n    </tr>\n  </tbody>\n</table>\n</div>"
     },
     "execution_count": 8,
     "metadata": {},
     "output_type": "execute_result"
    }
   ],
   "source": [
    "df.head()"
   ],
   "metadata": {
    "collapsed": false,
    "pycharm": {
     "name": "#%%\n"
    }
   }
  },
  {
   "cell_type": "code",
   "execution_count": 13,
   "outputs": [],
   "source": [
    "df = df[df.Language == 'en']"
   ],
   "metadata": {
    "collapsed": false,
    "pycharm": {
     "name": "#%%\n"
    }
   }
  },
  {
   "cell_type": "code",
   "execution_count": 14,
   "outputs": [],
   "source": [
    "df = df.dropna()"
   ],
   "metadata": {
    "collapsed": false,
    "pycharm": {
     "name": "#%%\n"
    }
   }
  },
  {
   "cell_type": "code",
   "execution_count": 21,
   "outputs": [],
   "source": [
    "df['CharLength'] = df['Lyrics'].apply(lambda lyric: len(lyric))"
   ],
   "metadata": {
    "collapsed": false,
    "pycharm": {
     "name": "#%%\n"
    }
   }
  },
  {
   "cell_type": "code",
   "execution_count": 26,
   "outputs": [
    {
     "data": {
      "text/plain": "<Figure size 432x288 with 1 Axes>",
      "image/png": "[encoded data removed]"
     },
     "metadata": {
      "needs_background": "light"
     },
     "output_type": "display_data"
    }
   ],
   "source": [
    "df['CharLength'].hist(bins=50);\n",
    "plt.xlim(0,10000);"
   ],
   "metadata": {
    "collapsed": false,
    "pycharm": {
     "name": "#%%\n"
    }
   }
  },
  {
   "cell_type": "code",
   "execution_count": 20,
   "outputs": [
    {
     "data": {
      "text/plain": "<AxesSubplot:>"
     },
     "execution_count": 20,
     "metadata": {},
     "output_type": "execute_result"
    },
    {
     "data": {
      "text/plain": "<Figure size 432x288 with 1 Axes>",
      "image/png": "[encoded data removed]"
     },
     "metadata": {
      "needs_background": "light"
     },
     "output_type": "display_data"
    }
   ],
   "source": [
    "df['Length'].hist(bins=25)"
   ],
   "metadata": {
    "collapsed": false,
    "pycharm": {
     "name": "#%%\n"
    }
   }
  },
  {
   "cell_type": "code",
   "execution_count": 3,
   "outputs": [
    {
     "data": {
      "text/plain": "                                                      text  \\\n0        BUY WINDOW FILM | Blossom & Brush | Made-to-me...   \n1        Tully United Community Church New Events Our C...   \n2        Home - Aish Technologies Solutions Submarines ...   \n3        Adrion Porter | Speaker. Podcaster. Host of Ge...   \n4        CRISP Communications – Advocacy | Media | Mark...   \n...                                                    ...   \n1700004  Rancho California Water District, CA | Officia...   \n1700005  Adobe Photoshop Course and Other Adobe Trainin...   \n1700006  Concrete Repair | Sipes Concrete Solutions Co....   \n1700007  Home | Katie Brandt Interiors  Skip to Main Co...   \n1700008  Dr. Harry \"Trey\" Green III, Houston, Texas Den...   \n\n                                    industry                      company_name  \n0                                     design                   blossom-&-brush  \n1                     religious institutions     tully-united-community-church  \n2                                   maritime             aish-technologies-ltd  \n3                      management consulting                      adrionporter  \n4        public relations and communications          crisp-communications-llc  \n...                                      ...                               ...  \n1700004                            utilities  rancho-california-water-district  \n1700005                               design            creative-studios-derby  \n1700006                         construction          sipes-concrete-solutions  \n1700007                               design            katie-brandt-interiors  \n1700008               hospital & health care              vintageparkdentistry  \n\n[1700009 rows x 3 columns]",
      "text/html": "<div>\n<style scoped>\n    .dataframe tbody tr th:only-of-type {\n        vertical-align: middle;\n    }\n\n    .dataframe tbody tr th {\n        vertical-align: top;\n    }\n\n    .dataframe thead th {\n        text-align: right;\n    }\n</style>\n<table border=\"1\" class=\"dataframe\">\n  <thead>\n    <tr style=\"text-align: right;\">\n      <th></th>\n      <th>text</th>\n      <th>industry</th>\n      <th>company_name</th>\n    </tr>\n  </thead>\n  <tbody>\n    <tr>\n      <th>0</th>\n      <td>BUY WINDOW FILM | Blossom &amp; Brush | Made-to-me...</td>\n      <td>design</td>\n      <td>blossom-&amp;-brush</td>\n    </tr>\n    <tr>\n      <th>1</th>\n      <td>Tully United Community Church New Events Our C...</td>\n      <td>religious institutions</td>\n      <td>tully-united-community-church</td>\n    </tr>\n    <tr>\n      <th>2</th>\n      <td>Home - Aish Technologies Solutions Submarines ...</td>\n      <td>maritime</td>\n      <td>aish-technologies-ltd</td>\n    </tr>\n    <tr>\n      <th>3</th>\n      <td>Adrion Porter | Speaker. Podcaster. Host of Ge...</td>\n      <td>management consulting</td>\n      <td>adrionporter</td>\n    </tr>\n    <tr>\n      <th>4</th>\n      <td>CRISP Communications – Advocacy | Media | Mark...</td>\n      <td>public relations and communications</td>\n      <td>crisp-communications-llc</td>\n    </tr>\n    <tr>\n      <th>...</th>\n      <td>...</td>\n      <td>...</td>\n      <td>...</td>\n    </tr>\n    <tr>\n      <th>1700004</th>\n      <td>Rancho California Water District, CA | Officia...</td>\n      <td>utilities</td>\n      <td>rancho-california-water-district</td>\n    </tr>\n    <tr>\n      <th>1700005</th>\n      <td>Adobe Photoshop Course and Other Adobe Trainin...</td>\n      <td>design</td>\n      <td>creative-studios-derby</td>\n    </tr>\n    <tr>\n      <th>1700006</th>\n      <td>Concrete Repair | Sipes Concrete Solutions Co....</td>\n      <td>construction</td>\n      <td>sipes-concrete-solutions</td>\n    </tr>\n    <tr>\n      <th>1700007</th>\n      <td>Home | Katie Brandt Interiors  Skip to Main Co...</td>\n      <td>design</td>\n      <td>katie-brandt-interiors</td>\n    </tr>\n    <tr>\n      <th>1700008</th>\n      <td>Dr. Harry \"Trey\" Green III, Houston, Texas Den...</td>\n      <td>hospital &amp; health care</td>\n      <td>vintageparkdentistry</td>\n    </tr>\n  </tbody>\n</table>\n<p>1700009 rows × 3 columns</p>\n</div>"
     },
     "execution_count": 3,
     "metadata": {},
     "output_type": "execute_result"
    }
   ],
   "source": [
    "# df = df.dropna().sample(frac=1).reset_index(drop=True)\n",
    "# df"
   ],
   "metadata": {
    "collapsed": false,
    "pycharm": {
     "name": "#%%\n"
    }
   }
  },
  {
   "cell_type": "code",
   "execution_count": 7,
   "outputs": [
    {
     "data": {
      "text/plain": "                                                 text  \\\n0   Maryland-based construction and restoration co...   \n1   Treatment Homes Inc Skip to content Donate Abo...   \n2   Leif | Outcomes-Based Education Finance Platfo...   \n3   Coachs sportifs et coachs de vie - Pour 3 Poin...   \n4   MMB Healthcare   Companies Leadership Contact ...   \n..                                                ...   \n95  Patriot Properties - Real Estate Investment, P...   \n96  Liberty Tutoring - 1-on-1 Personalised Tutorin...   \n97  Hair Fusion | Best Hair Salon in Bakersfield |...   \n98  Daughters of Hawai‘i Member Resources Queen Em...   \n99  Home - Tucker Auto-Mation Skip to content Menu...   \n\n                       industry                        company_name  \n0                  construction                freedom-restoration1  \n1            mental health care                 treatment-homes-inc  \n2   civic & social organization  longterm-education-investment-fund  \n3   civic & social organization                       pour-3-points  \n4               pharmaceuticals       evergreen-pharma-services-llc  \n..                          ...                                 ...  \n95                  real estate                     patriotholdings  \n96         education management                    liberty-tutoring  \n97            consumer services                         hair-fusion  \n98     museums and institutions       daughters-of-hawaii-gift-shop  \n99                 construction                  tucker-auto-mation  \n\n[100 rows x 3 columns]",
      "text/html": "<div>\n<style scoped>\n    .dataframe tbody tr th:only-of-type {\n        vertical-align: middle;\n    }\n\n    .dataframe tbody tr th {\n        vertical-align: top;\n    }\n\n    .dataframe thead th {\n        text-align: right;\n    }\n</style>\n<table border=\"1\" class=\"dataframe\">\n  <thead>\n    <tr style=\"text-align: right;\">\n      <th></th>\n      <th>text</th>\n      <th>industry</th>\n      <th>company_name</th>\n    </tr>\n  </thead>\n  <tbody>\n    <tr>\n      <th>0</th>\n      <td>Maryland-based construction and restoration co...</td>\n      <td>construction</td>\n      <td>freedom-restoration1</td>\n    </tr>\n    <tr>\n      <th>1</th>\n      <td>Treatment Homes Inc Skip to content Donate Abo...</td>\n      <td>mental health care</td>\n      <td>treatment-homes-inc</td>\n    </tr>\n    <tr>\n      <th>2</th>\n      <td>Leif | Outcomes-Based Education Finance Platfo...</td>\n      <td>civic &amp; social organization</td>\n      <td>longterm-education-investment-fund</td>\n    </tr>\n    <tr>\n      <th>3</th>\n      <td>Coachs sportifs et coachs de vie - Pour 3 Poin...</td>\n      <td>civic &amp; social organization</td>\n      <td>pour-3-points</td>\n    </tr>\n    <tr>\n      <th>4</th>\n      <td>MMB Healthcare   Companies Leadership Contact ...</td>\n      <td>pharmaceuticals</td>\n      <td>evergreen-pharma-services-llc</td>\n    </tr>\n    <tr>\n      <th>...</th>\n      <td>...</td>\n      <td>...</td>\n      <td>...</td>\n    </tr>\n    <tr>\n      <th>95</th>\n      <td>Patriot Properties - Real Estate Investment, P...</td>\n      <td>real estate</td>\n      <td>patriotholdings</td>\n    </tr>\n    <tr>\n      <th>96</th>\n      <td>Liberty Tutoring - 1-on-1 Personalised Tutorin...</td>\n      <td>education management</td>\n      <td>liberty-tutoring</td>\n    </tr>\n    <tr>\n      <th>97</th>\n      <td>Hair Fusion | Best Hair Salon in Bakersfield |...</td>\n      <td>consumer services</td>\n      <td>hair-fusion</td>\n    </tr>\n    <tr>\n      <th>98</th>\n      <td>Daughters of Hawai‘i Member Resources Queen Em...</td>\n      <td>museums and institutions</td>\n      <td>daughters-of-hawaii-gift-shop</td>\n    </tr>\n    <tr>\n      <th>99</th>\n      <td>Home - Tucker Auto-Mation Skip to content Menu...</td>\n      <td>construction</td>\n      <td>tucker-auto-mation</td>\n    </tr>\n  </tbody>\n</table>\n<p>100 rows × 3 columns</p>\n</div>"
     },
     "execution_count": 7,
     "metadata": {},
     "output_type": "execute_result"
    }
   ],
   "source": [
    "import pandas as pd\n",
    "import sys\n",
    "import csv\n",
    "\n",
    "csv.field_size_limit(sys.maxsize)\n",
    "a = pd.read_csv('../data/all_data.csv', index_col=0, lineterminator='\\n', nrows=100)\n",
    "a"
   ],
   "metadata": {
    "collapsed": false,
    "pycharm": {
     "name": "#%%\n"
    }
   }
  },
  {
   "cell_type": "code",
   "execution_count": 37,
   "outputs": [],
   "source": [
    "import pickle"
   ],
   "metadata": {
    "collapsed": false,
    "pycharm": {
     "name": "#%%\n"
    }
   }
  },
  {
   "cell_type": "code",
   "execution_count": 41,
   "outputs": [],
   "source": [
    "data = pd.read_csv('data/all_data.csv', usecols=['Artist'])\n",
    "artists = set(data['Artist'])\n",
    "try:\n",
    "    with open('data/artists_blacklist.pickle', 'rb') as handle:\n",
    "        prev_artists = handle\n",
    "        artists.add(prev_artists)\n",
    "    with open('data/artists_blacklist.pickle', 'wb') as handle:\n",
    "        pickle.dump(artists, handle)\n",
    "except:\n",
    "    with open('data/artists_blacklist.pickle', 'wb') as handle:\n",
    "        pickle.dump(artists, handle)"
   ],
   "metadata": {
    "collapsed": false,
    "pycharm": {
     "name": "#%%\n"
    }
   }
  },
  {
   "cell_type": "code",
   "execution_count": 43,
   "outputs": [
    {
     "data": {
      "text/plain": "13011"
     },
     "execution_count": 43,
     "metadata": {},
     "output_type": "execute_result"
    }
   ],
   "source": [
    "len(artists)"
   ],
   "metadata": {
    "collapsed": false,
    "pycharm": {
     "name": "#%%\n"
    }
   }
  }
 ],
 "metadata": {
  "kernelspec": {
   "display_name": "Python 3",
   "language": "python",
   "name": "python3"
  },
  "language_info": {
   "codemirror_mode": {
    "name": "ipython",
    "version": 2
   },
   "file_extension": ".py",
   "mimetype": "text/x-python",
   "name": "python",
   "nbconvert_exporter": "python",
   "pygments_lexer": "ipython2",
   "version": "2.7.6"
  }
 },
 "nbformat": 4,
 "nbformat_minor": 0
}